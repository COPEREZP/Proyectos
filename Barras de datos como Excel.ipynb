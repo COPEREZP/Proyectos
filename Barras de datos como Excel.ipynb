{
 "cells": [
  {
   "cell_type": "code",
   "execution_count": 1,
   "id": "f3a53d5a-74d1-4c23-a0a8-498717807519",
   "metadata": {},
   "outputs": [
    {
     "data": {
      "text/html": [
       "<style type=\"text/css\">\n",
       "#T_ebb70_row0_col0 {\n",
       "  width: 10em;\n",
       "  background: linear-gradient(90deg, #d65f5f 55.6%, transparent 55.6%);\n",
       "}\n",
       "#T_ebb70_row0_col1, #T_ebb70_row2_col0 {\n",
       "  width: 10em;\n",
       "  background: linear-gradient(90deg, #d65f5f 100.0%, transparent 100.0%);\n",
       "}\n",
       "#T_ebb70_row1_col0 {\n",
       "  width: 10em;\n",
       "  background: linear-gradient(90deg, #d65f5f 22.2%, transparent 22.2%);\n",
       "}\n",
       "#T_ebb70_row1_col1 {\n",
       "  width: 10em;\n",
       "  background: linear-gradient(90deg, #d65f5f 30.0%, transparent 30.0%);\n",
       "}\n",
       "#T_ebb70_row2_col1 {\n",
       "  width: 10em;\n",
       "  background: linear-gradient(90deg, #d65f5f 60.0%, transparent 60.0%);\n",
       "}\n",
       "#T_ebb70_row3_col0 {\n",
       "  width: 10em;\n",
       "  background: linear-gradient(90deg, #d65f5f 44.4%, transparent 44.4%);\n",
       "}\n",
       "#T_ebb70_row3_col1 {\n",
       "  width: 10em;\n",
       "  background: linear-gradient(90deg, #d65f5f 10.0%, transparent 10.0%);\n",
       "}\n",
       "#T_ebb70_row4_col0 {\n",
       "  width: 10em;\n",
       "  background: linear-gradient(90deg, #d65f5f 77.8%, transparent 77.8%);\n",
       "}\n",
       "#T_ebb70_row4_col1 {\n",
       "  width: 10em;\n",
       "  background: linear-gradient(90deg, #d65f5f 80.0%, transparent 80.0%);\n",
       "}\n",
       "</style>\n",
       "<table id=\"T_ebb70\">\n",
       "  <thead>\n",
       "    <tr>\n",
       "      <th class=\"blank level0\" >&nbsp;</th>\n",
       "      <th id=\"T_ebb70_level0_col0\" class=\"col_heading level0 col0\" >A</th>\n",
       "      <th id=\"T_ebb70_level0_col1\" class=\"col_heading level0 col1\" >B</th>\n",
       "    </tr>\n",
       "  </thead>\n",
       "  <tbody>\n",
       "    <tr>\n",
       "      <th id=\"T_ebb70_level0_row0\" class=\"row_heading level0 row0\" >0</th>\n",
       "      <td id=\"T_ebb70_row0_col0\" class=\"data row0 col0\" >5</td>\n",
       "      <td id=\"T_ebb70_row0_col1\" class=\"data row0 col1\" >10</td>\n",
       "    </tr>\n",
       "    <tr>\n",
       "      <th id=\"T_ebb70_level0_row1\" class=\"row_heading level0 row1\" >1</th>\n",
       "      <td id=\"T_ebb70_row1_col0\" class=\"data row1 col0\" >2</td>\n",
       "      <td id=\"T_ebb70_row1_col1\" class=\"data row1 col1\" >3</td>\n",
       "    </tr>\n",
       "    <tr>\n",
       "      <th id=\"T_ebb70_level0_row2\" class=\"row_heading level0 row2\" >2</th>\n",
       "      <td id=\"T_ebb70_row2_col0\" class=\"data row2 col0\" >9</td>\n",
       "      <td id=\"T_ebb70_row2_col1\" class=\"data row2 col1\" >6</td>\n",
       "    </tr>\n",
       "    <tr>\n",
       "      <th id=\"T_ebb70_level0_row3\" class=\"row_heading level0 row3\" >3</th>\n",
       "      <td id=\"T_ebb70_row3_col0\" class=\"data row3 col0\" >4</td>\n",
       "      <td id=\"T_ebb70_row3_col1\" class=\"data row3 col1\" >1</td>\n",
       "    </tr>\n",
       "    <tr>\n",
       "      <th id=\"T_ebb70_level0_row4\" class=\"row_heading level0 row4\" >4</th>\n",
       "      <td id=\"T_ebb70_row4_col0\" class=\"data row4 col0\" >7</td>\n",
       "      <td id=\"T_ebb70_row4_col1\" class=\"data row4 col1\" >8</td>\n",
       "    </tr>\n",
       "  </tbody>\n",
       "</table>\n"
      ],
      "text/plain": [
       "<pandas.io.formats.style.Styler at 0x17ee6996330>"
      ]
     },
     "execution_count": 1,
     "metadata": {},
     "output_type": "execute_result"
    }
   ],
   "source": [
    "import pandas as pd\n",
    "import numpy as np\n",
    "\n",
    "# Crear un DataFrame de ejemplo\n",
    "data = {'A': [5, 2, 9, 4, 7], 'B': [10, 3, 6, 1, 8]}\n",
    "df = pd.DataFrame(data)\n",
    "\n",
    "# Aplicar barra de datos usando Styler\n",
    "styled_df = df.style.bar(subset=['A', 'B'], color='#d65f5f')\n",
    "\n",
    "# Mostrar la tabla con el formato aplicado\n",
    "styled_df\n"
   ]
  }
 ],
 "metadata": {
  "kernelspec": {
   "display_name": "Python 3 (ipykernel)",
   "language": "python",
   "name": "python3"
  },
  "language_info": {
   "codemirror_mode": {
    "name": "ipython",
    "version": 3
   },
   "file_extension": ".py",
   "mimetype": "text/x-python",
   "name": "python",
   "nbconvert_exporter": "python",
   "pygments_lexer": "ipython3",
   "version": "3.12.3"
  }
 },
 "nbformat": 4,
 "nbformat_minor": 5
}
