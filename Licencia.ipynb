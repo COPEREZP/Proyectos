{
 "cells": [
  {
   "cell_type": "code",
   "execution_count": 2,
   "id": "14632d6a-5c66-4f24-902d-22ccaa3ec81b",
   "metadata": {},
   "outputs": [
    {
     "name": "stdout",
     "output_type": "stream",
     "text": [
      "El archivo se ha guardado correctamente en: C:\\Users\\constanza.perez\\Colgram\\Business Intelligence - General\\1. BI\\Webscraping\\Consolidado total - copia_modificado.xlsx\n"
     ]
    }
   ],
   "source": [
    "import pandas as pd\n",
    "\n",
    "# Palabras que buscamos en la columna NOMBRE\n",
    "palabras_a_buscar = [\"cars\", \"frozen\", \"disney\", \"mickey\", \"minions\", \"minion\"]\n",
    "\n",
    "# Leer el archivo Excel desde la ruta proporcionada\n",
    "archivo_path = r\"C:\\Users\\constanza.perez\\Colgram\\Business Intelligence - General\\1. BI\\Webscraping\\Consolidado total - copia.xlsx\"\n",
    "df = pd.read_excel(archivo_path)\n",
    "\n",
    "# Función para encontrar la palabra que aparece en el nombre\n",
    "def extraer_palabra(nombre):\n",
    "    nombre = nombre.lower()  # Convertimos todo a minúsculas para comparación\n",
    "    for palabra in palabras_a_buscar:\n",
    "        if palabra.lower() in nombre:  # Verificamos si la palabra está en el nombre\n",
    "            return palabra.capitalize()  # Retornamos la palabra encontrada (en formato capitalizado)\n",
    "    return None  # Si no se encuentra ninguna palabra, retornamos None\n",
    "\n",
    "# Aplicar la función a la columna 'NOMBRE' y guardar los resultados en la columna 'ONE'\n",
    "df['One'] = df['Nombre'].apply(extraer_palabra)\n",
    "\n",
    "# Guardar el archivo con los resultados en una nueva hoja\n",
    "archivo_guardado = r\"C:\\Users\\constanza.perez\\Colgram\\Business Intelligence - General\\1. BI\\Webscraping\\Consolidado total - copia_modificado.xlsx\"\n",
    "df.to_excel(archivo_guardado, index=False)\n",
    "\n",
    "print(\"El archivo se ha guardado correctamente en:\", archivo_guardado)\n"
   ]
  }
 ],
 "metadata": {
  "kernelspec": {
   "display_name": "Python 3 (ipykernel)",
   "language": "python",
   "name": "python3"
  },
  "language_info": {
   "codemirror_mode": {
    "name": "ipython",
    "version": 3
   },
   "file_extension": ".py",
   "mimetype": "text/x-python",
   "name": "python",
   "nbconvert_exporter": "python",
   "pygments_lexer": "ipython3",
   "version": "3.12.3"
  }
 },
 "nbformat": 4,
 "nbformat_minor": 5
}
