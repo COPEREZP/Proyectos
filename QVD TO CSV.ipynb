{
 "cells": [
  {
   "cell_type": "code",
   "execution_count": 4,
   "id": "0159d302-85fc-49e9-b1db-bbfcbaf3975b",
   "metadata": {},
   "outputs": [
    {
     "name": "stdout",
     "output_type": "stream",
     "text": [
      "Archivo CSV exportado correctamente a: C:\\Users\\constanza.perez\\Colgram\\Business Intelligence - General\\1. BI\\Paneles BI\\CONI\\plan_ventas_2025_S1_sem2_cod13.csv\n"
     ]
    }
   ],
   "source": [
    "import os\n",
    "import pandas as pd\n",
    "from pyqvd import QvdTable\n",
    "\n",
    "def qvd_to_dataframe(file_path):\n",
    "    try:\n",
    "        # Leer el archivo QVD\n",
    "        tbl = QvdTable.from_qvd(file_path)\n",
    "\n",
    "        # Convertir el QVD a un DataFrame de pandas\n",
    "        data = {column: tbl[column] for column in tbl.columns}\n",
    "        df = pd.DataFrame(data)\n",
    "\n",
    "        return df\n",
    "\n",
    "    except FileNotFoundError:\n",
    "        print(f\"Error: No se encontró el archivo en la ruta especificada: {file_path}\")\n",
    "    except Exception as e:\n",
    "        print(f\"Error al procesar el archivo QVD: {e}\")\n",
    "        return None\n",
    "\n",
    "def export_to_csv(df, output_file_path):\n",
    "    \"\"\"Exporta el DataFrame a un archivo CSV.\"\"\"\n",
    "    try:\n",
    "        df.to_csv(output_file_path, index=False)\n",
    "        print(f\"Archivo CSV exportado correctamente a: {output_file_path}\")\n",
    "    except Exception as e:\n",
    "        print(f\"Error al exportar el archivo CSV: {e}\")\n",
    "\n",
    "# Ruta al archivo QVD (debes cambiar esta ruta por la ubicación del archivo en tu sistema)\n",
    "qvd_file_path = r'C:\\Users\\constanza.perez\\Colgram\\Business Intelligence - General\\1. BI\\Paneles BI\\CONI\\plan_ventas_2025_S1_sem2_cod13.qvd'\n",
    "\n",
    "# Leer el archivo QVD y convertirlo en un DataFrame\n",
    "df = qvd_to_dataframe(qvd_file_path)\n",
    "\n",
    "if df is not None:\n",
    "    # Ruta para guardar el archivo CSV, manteniendo la misma carpeta\n",
    "    output_file_path = os.path.splitext(qvd_file_path)[0] + '.csv'\n",
    "    \n",
    "    # Exportar el DataFrame a un archivo CSV\n",
    "    export_to_csv(df, output_file_path)\n"
   ]
  },
  {
   "cell_type": "code",
   "execution_count": 6,
   "id": "c918b038-4f9b-4262-a2c0-253278fc351c",
   "metadata": {},
   "outputs": [
    {
     "name": "stderr",
     "output_type": "stream",
     "text": [
      "C:\\Users\\constanza.perez\\AppData\\Local\\Temp\\ipykernel_13588\\555147774.py:5: DtypeWarning: Columns (11,14) have mixed types. Specify dtype option on import or set low_memory=False.\n",
      "  df = pd.read_csv(file_path)\n"
     ]
    },
    {
     "name": "stdout",
     "output_type": "stream",
     "text": [
      "Nombres de las columnas: ['plan_id_subarea', 'plan_id_supermarca', 'plan_id_agrupacion_temporada', 'plan_id_mes', 'plan_id_semana', 'plan_id_calendario', 'plan_id_pais', 'plan_id_compañia', 'plan_id_organizacion', 'plan_id_area', 'plan_id_marca', 'plan_id_canal', 'plan_bd_id_canal_old', 'plan_id_subcanal', 'plan_id_mundo', 'plan_id_superfamilia', 'plan_id_genero', 'plan_id_familia', 'plan_id_temporada', 'plan_total_unidades_vendidas', 'plan_total_monto_venta', 'plan_total_costo_venta', 'plan_total_contribucion', 'plan_tipo_tienda', 'plan_id_producto', 'plan_fecha', 'plan_fechanum_venta', 'plan_porcentaje_diario', 'plan_porcentaje_sucursal', 'plan_id_sucursal', 'plan_unidades_vendidas', 'plan_monto_venta', 'plan_costo_venta', 'plan_id_cliente', 'plan_contribucion']\n",
      "Conteo único de valores en la columna 'Semana': 26\n"
     ]
    }
   ],
   "source": [
    "import pandas as pd\n",
    "\n",
    "# Leer el archivo CSV\n",
    "file_path = r\"C:\\Users\\constanza.perez\\Colgram\\Business Intelligence - General\\1. BI\\Paneles BI\\CONI\\plan_ventas_2025_S1_sem2_cod13.csv\"\n",
    "df = pd.read_csv(file_path)\n",
    "\n",
    "# Mostrar los nombres de las columnas\n",
    "print(\"Nombres de las columnas:\", df.columns.tolist())\n",
    "\n",
    "# Contar los valores únicos en la columna 'Semana'\n",
    "unique_semanas = df['plan_id_semana'].nunique()\n",
    "print(\"Conteo único de valores en la columna 'Semana':\", unique_semanas)\n"
   ]
  },
  {
   "cell_type": "code",
   "execution_count": null,
   "id": "cc8c60c8-cff4-4333-94a6-0cbd94b315b8",
   "metadata": {},
   "outputs": [],
   "source": []
  },
  {
   "cell_type": "code",
   "execution_count": null,
   "id": "7201ccec-dc12-4dad-9481-24b0b8351ccf",
   "metadata": {},
   "outputs": [],
   "source": []
  },
  {
   "cell_type": "code",
   "execution_count": null,
   "id": "03051b24-ca74-4015-b133-1a14575fd109",
   "metadata": {},
   "outputs": [],
   "source": []
  },
  {
   "cell_type": "code",
   "execution_count": null,
   "id": "6e93c186-fa22-4e71-b8da-f2f21413e25a",
   "metadata": {},
   "outputs": [],
   "source": []
  },
  {
   "cell_type": "code",
   "execution_count": null,
   "id": "4dbabb5c-cf36-47e0-be6c-c689059d3654",
   "metadata": {},
   "outputs": [],
   "source": []
  },
  {
   "cell_type": "code",
   "execution_count": null,
   "id": "936d338a-bb4b-4c61-94f2-b1ca89958c1a",
   "metadata": {},
   "outputs": [],
   "source": []
  }
 ],
 "metadata": {
  "kernelspec": {
   "display_name": "Python 3 (ipykernel)",
   "language": "python",
   "name": "python3"
  },
  "language_info": {
   "codemirror_mode": {
    "name": "ipython",
    "version": 3
   },
   "file_extension": ".py",
   "mimetype": "text/x-python",
   "name": "python",
   "nbconvert_exporter": "python",
   "pygments_lexer": "ipython3",
   "version": "3.12.3"
  }
 },
 "nbformat": 4,
 "nbformat_minor": 5
}
