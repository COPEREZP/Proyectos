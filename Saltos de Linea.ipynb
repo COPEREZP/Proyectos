{
 "cells": [
  {
   "cell_type": "code",
   "execution_count": 2,
   "id": "815699b6-bf2f-425f-9c16-0baf2fabbad4",
   "metadata": {},
   "outputs": [
    {
     "name": "stdout",
     "output_type": "stream",
     "text": [
      "Index(['FechaPedido', 'Unidad de Negocio', 'Canal', 'Tipo_Venta', 'Bodega',\n",
      "       'Courier', 'Pedido_Id', 'N_Pedido_Origen', 'Numero_Boleta', 'Comuna',\n",
      "       'SKU', 'Nombre SKU', 'Departamento', 'Categoría', 'Precio Maestra',\n",
      "       'Precio_Lista', 'Precio Final Unitario Bruto', 'Descuento', '%Dscto',\n",
      "       'Unidades', 'TotalBruto', 'TotalNeto', 'Tipo Documento',\n",
      "       'Fecha Promesa Despacho', 'Fecha Despacho', 'Estado del Pedido',\n",
      "       'Nombre_Razon_Social', 'Apellido_Nombre_Fantasia', 'Rut', 'Email',\n",
      "       'Telefono', 'Direccion', 'Dpto', 'Tipo_Condicion_Pago',\n",
      "       'Numero_Pedido_Secuencia', 'Costos', 'costos*2', 'Contri'],\n",
      "      dtype='object')\n"
     ]
    },
    {
     "name": "stderr",
     "output_type": "stream",
     "text": [
      "C:\\Users\\constanza.perez\\AppData\\Local\\Temp\\ipykernel_9492\\2587192691.py:19: FutureWarning: DataFrame.applymap has been deprecated. Use DataFrame.map instead.\n",
      "  df = df.applymap(limpiar_saltos_de_linea)\n"
     ]
    },
    {
     "name": "stdout",
     "output_type": "stream",
     "text": [
      "Saltos de línea eliminados exitosamente.\n"
     ]
    }
   ],
   "source": [
    "import pandas as pd\n",
    "\n",
    "# Ruta del archivo de Excel\n",
    "file_path = r\"C:\\Users\\constanza.perez\\OneDrive - Colgram\\Escritorio\\DETALLE DE PEDIDOS - 2025-01-20T084958.494.xlsx\"\n",
    "\n",
    "# Leer el archivo de Excel especificando la hoja \"Hoja1\"\n",
    "df = pd.read_excel(file_path, sheet_name='Sheet1', engine='openpyxl')\n",
    "\n",
    "# Verificar los nombres de las columnas\n",
    "print(df.columns)\n",
    "\n",
    "# Función para limpiar los saltos de línea (\\n) y retorno de carro (\\r)\n",
    "def limpiar_saltos_de_linea(texto):\n",
    "    if isinstance(texto, str):  # Verificar que el valor sea una cadena de texto\n",
    "        return texto.replace('\\n', '').replace('\\r', '')\n",
    "    return texto\n",
    "\n",
    "# Aplicar la limpieza a todas las columnas\n",
    "df = df.applymap(limpiar_saltos_de_linea)\n",
    "\n",
    "# Guardar el archivo con los cambios realizados\n",
    "df.to_excel(file_path, index=False, engine='openpyxl')\n",
    "\n",
    "print(\"Saltos de línea eliminados exitosamente.\")\n"
   ]
  },
  {
   "cell_type": "code",
   "execution_count": null,
   "id": "352b4b59-4b16-4374-8a33-e05bc1d67ae1",
   "metadata": {},
   "outputs": [],
   "source": []
  },
  {
   "cell_type": "code",
   "execution_count": null,
   "id": "ca74bb7f-d457-42d4-9c57-77d796bbaaa7",
   "metadata": {},
   "outputs": [],
   "source": []
  }
 ],
 "metadata": {
  "kernelspec": {
   "display_name": "Python 3 (ipykernel)",
   "language": "python",
   "name": "python3"
  },
  "language_info": {
   "codemirror_mode": {
    "name": "ipython",
    "version": 3
   },
   "file_extension": ".py",
   "mimetype": "text/x-python",
   "name": "python",
   "nbconvert_exporter": "python",
   "pygments_lexer": "ipython3",
   "version": "3.12.3"
  }
 },
 "nbformat": 4,
 "nbformat_minor": 5
}
